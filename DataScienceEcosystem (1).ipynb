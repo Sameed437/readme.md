{
 "cells": [
  {
   "cell_type": "markdown",
   "id": "6a765c45-166c-4dbf-b5c4-5f28d1cc439d",
   "metadata": {},
   "source": [
    "# Data Science Tools and Ecosystem"
   ]
  },
  {
   "cell_type": "markdown",
   "id": "9b56094e-6223-4954-b915-caa34e34030f",
   "metadata": {},
   "source": [
    "In this notebook, Data Science Tools and Ecosystem are summarized."
   ]
  },
  {
   "cell_type": "markdown",
   "id": "4643d824-e583-4e37-81f4-858ccf48f625",
   "metadata": {},
   "source": [
    "Some of the popular languages that Data Scientists use are:"
   ]
  },
  {
   "cell_type": "code",
   "execution_count": 2,
   "id": "60b027c0-2843-4a75-a3e3-00e8628f6ec2",
   "metadata": {
    "tags": []
   },
   "outputs": [
    {
     "name": "stdout",
     "output_type": "stream",
     "text": [
      "1. Python\n",
      "2. R\n",
      "3. Julia\n",
      "4. Scala\n"
     ]
    }
   ],
   "source": [
    "languages = ['Python', 'R', 'Julia', 'Scala']\n",
    "for index, language in enumerate(languages, start=1):\n",
    "    print(f\"{index}. {language}\")\n"
   ]
  },
  {
   "cell_type": "markdown",
   "id": "b7c4527e-75fc-4723-9826-0a2566dae587",
   "metadata": {},
   "source": [
    "Some of the commonly used libraries used by Data Scientists include:"
   ]
  },
  {
   "cell_type": "markdown",
   "id": "83d3f34e-9e87-4a84-aac2-478c1f657e8d",
   "metadata": {},
   "source": [
    "Some of the commonly used libraries used by Data Scientists include:"
   ]
  },
  {
   "cell_type": "code",
   "execution_count": 3,
   "id": "453e132b-daa4-47e1-9f74-134da43bd933",
   "metadata": {
    "tags": []
   },
   "outputs": [
    {
     "name": "stdout",
     "output_type": "stream",
     "text": [
      "1. NumPy\n",
      "2. pandas\n",
      "3. scikit-learn\n",
      "4. TensorFlow\n"
     ]
    }
   ],
   "source": [
    "libraries = ['NumPy', 'pandas', 'scikit-learn', 'TensorFlow']\n",
    "for index, library in enumerate(libraries, start=1):\n",
    "    print(f\"{index}. {library}\")\n"
   ]
  },
  {
   "cell_type": "markdown",
   "id": "54f1e7ed-7ab2-418e-9dd1-9264c5bbb7e2",
   "metadata": {},
   "source": [
    "Data Science Tools and Ecosystem\n",
    "\n",
    "\n"
   ]
  },
  {
   "cell_type": "code",
   "execution_count": 4,
   "id": "f6dec54f-6d44-44ca-b85d-d0c597871d7c",
   "metadata": {
    "tags": []
   },
   "outputs": [
    {
     "name": "stdout",
     "output_type": "stream",
     "text": [
      "| Data Science Tools |\n",
      "|--------------------|\n",
      "| Jupyter Notebook   |\n",
      "| RStudio            |\n",
      "| Apache Zeppelin    |\n"
     ]
    }
   ],
   "source": [
    "print(\"| Data Science Tools |\")\n",
    "print(\"|--------------------|\")\n",
    "print(\"| Jupyter Notebook   |\")\n",
    "print(\"| RStudio            |\")\n",
    "print(\"| Apache Zeppelin    |\")"
   ]
  },
  {
   "cell_type": "code",
   "execution_count": 5,
   "id": "88762097-1e51-4c24-bd73-6913c1acaa46",
   "metadata": {
    "tags": []
   },
   "outputs": [
    {
     "name": "stdout",
     "output_type": "stream",
     "text": [
      "### Below are a few examples of evaluating arithmetic expressions in Python.\n"
     ]
    }
   ],
   "source": [
    "heading_text = \"Below are a few examples of evaluating arithmetic expressions in Python.\"\n",
    "h3_heading = f\"### {heading_text}\"\n",
    "\n",
    "print(h3_heading)\n"
   ]
  },
  {
   "cell_type": "code",
   "execution_count": 6,
   "id": "27753587-118d-4fdb-8b5a-68343d420675",
   "metadata": {
    "tags": []
   },
   "outputs": [
    {
     "name": "stdout",
     "output_type": "stream",
     "text": [
      "17\n"
     ]
    }
   ],
   "source": [
    "# This is a simple arithmetic expression to multiply then add integers.\n",
    "result = (3*4) + 5\n",
    "print(result)"
   ]
  },
  {
   "cell_type": "code",
   "execution_count": 7,
   "id": "2c87e108-802f-4d33-94d8-1c0c5bf9f6b8",
   "metadata": {
    "tags": []
   },
   "outputs": [
    {
     "name": "stdout",
     "output_type": "stream",
     "text": [
      "3.3333333333333335\n"
     ]
    }
   ],
   "source": [
    "# This will convert 200 minutes to hours by dividing by 60.\n",
    "minutes = 200\n",
    "hours = minutes / 60\n",
    "print(hours)"
   ]
  },
  {
   "cell_type": "markdown",
   "id": "fb069444-64e1-47ea-a07e-e044e4b7498f",
   "metadata": {},
   "source": [
    "**Objectives:**\n",
    "\n",
    "- List popular languages for Data Science.\n",
    "- Introduce commonly used libraries in Data Science.\n",
    "- Explore development environment tools for Data Science.\n",
    "- Demonstrate evaluation of arithmetic expressions in Python.\n",
    "- Convert minutes to hours using Python.\n"
   ]
  },
  {
   "cell_type": "markdown",
   "id": "83434e63-be29-4dfe-9c57-380778a44cc2",
   "metadata": {},
   "source": [
    "## Lakshmi Holla\n",
    "Sameed Chaudhary"
   ]
  },
  {
   "cell_type": "code",
   "execution_count": null,
   "id": "8e8c23a4-5896-45b3-81b2-538214ef25ed",
   "metadata": {},
   "outputs": [],
   "source": []
  }
 ],
 "metadata": {
  "kernelspec": {
   "display_name": "Python",
   "language": "python",
   "name": "conda-env-python-py"
  },
  "language_info": {
   "codemirror_mode": {
    "name": "ipython",
    "version": 3
   },
   "file_extension": ".py",
   "mimetype": "text/x-python",
   "name": "python",
   "nbconvert_exporter": "python",
   "pygments_lexer": "ipython3",
   "version": "3.7.12"
  }
 },
 "nbformat": 4,
 "nbformat_minor": 5
}
